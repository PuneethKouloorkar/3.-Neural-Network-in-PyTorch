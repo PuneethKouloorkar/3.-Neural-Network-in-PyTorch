{
  "nbformat": 4,
  "nbformat_minor": 0,
  "metadata": {
    "colab": {
      "name": "Neural Network in PyTorch.ipynb",
      "provenance": [],
      "collapsed_sections": []
    },
    "kernelspec": {
      "name": "python3",
      "display_name": "Python 3"
    }
  },
  "cells": [
    {
      "cell_type": "code",
      "metadata": {
        "id": "XOXchDU-y8u5"
      },
      "source": [
        "import numpy as np\n",
        "import torch\n",
        "import torch.nn as nn\n",
        "from torch.utils.data import TensorDataset, DataLoader\n",
        "import matplotlib.pyplot as plt"
      ],
      "execution_count": null,
      "outputs": []
    },
    {
      "cell_type": "code",
      "metadata": {
        "id": "R9HBpmnAzjT2",
        "outputId": "ddc6dd8f-8482-402e-e2a7-1c016d8e25dc",
        "colab": {
          "base_uri": "https://localhost:8080/",
          "height": 67
        }
      },
      "source": [
        "with np.load('/content/drive/My Drive/DL data/NN PyTorch/prediction-challenge-01-data.npz') as fs:\n",
        "    data_x = fs['data_x']\n",
        "    data_y = fs['data_y']\n",
        "    test_x = fs['test_x']\n",
        "\n",
        "for i in [data_x, data_y, test_x]:\n",
        "    print(i.shape)"
      ],
      "execution_count": null,
      "outputs": [
        {
          "output_type": "stream",
          "text": [
            "(20000, 1, 28, 28)\n",
            "(20000,)\n",
            "(2000, 1, 28, 28)\n"
          ],
          "name": "stdout"
        }
      ]
    },
    {
      "cell_type": "code",
      "metadata": {
        "id": "FZqAt5N30Xx8",
        "outputId": "e873cc0f-dde9-42b3-ef05-de050ccb8d9a",
        "colab": {
          "base_uri": "https://localhost:8080/",
          "height": 281
        }
      },
      "source": [
        "plt.imshow(np.squeeze(data_x[15]))\n",
        "plt.title(data_y[15])\n",
        "plt.show()"
      ],
      "execution_count": null,
      "outputs": [
        {
          "output_type": "display_data",
          "data": {
            "image/png": "[encoded data removed]",
            "text/plain": [
              "<Figure size 432x288 with 1 Axes>"
            ]
          },
          "metadata": {
            "tags": [],
            "needs_background": "light"
          }
        }
      ]
    },
    {
      "cell_type": "code",
      "metadata": {
        "id": "8yDnh7L01s_M",
        "outputId": "e984a8e3-c7c1-418c-f5d2-e5ac2d8e0a98",
        "colab": {
          "base_uri": "https://localhost:8080/",
          "height": 84
        }
      },
      "source": [
        "split = int(0.8 * len(data_x))      # 80/20 splitting\n",
        "train_x = torch.Tensor(data_x[:split])    # torch.Tensor = convert numpy arrays to tensors\n",
        "train_y = torch.Tensor(data_y[:split])\n",
        "valid_x = torch.Tensor(data_x[split:])\n",
        "valid_y = torch.Tensor(data_y[split:])\n",
        "\n",
        "for i in [train_x, train_y, valid_x, valid_y]:\n",
        "    print(i.shape)"
      ],
      "execution_count": null,
      "outputs": [
        {
          "output_type": "stream",
          "text": [
            "torch.Size([16000, 1, 28, 28])\n",
            "torch.Size([16000])\n",
            "torch.Size([4000, 1, 28, 28])\n",
            "torch.Size([4000])\n"
          ],
          "name": "stdout"
        }
      ]
    },
    {
      "cell_type": "code",
      "metadata": {
        "id": "e7UnITzZ3vX6"
      },
      "source": [
        "batch = 25\n",
        "\n",
        "train = TensorDataset(train_x, train_y)\n",
        "trainloader = DataLoader(train, batch_size=batch, shuffle=True)\n",
        "\n",
        "val = TensorDataset(valid_x,valid_y)\n",
        "valloader = DataLoader(val, batch_size=batch, shuffle=True)"
      ],
      "execution_count": null,
      "outputs": []
    },
    {
      "cell_type": "code",
      "metadata": {
        "id": "xI-hx4WO4PBb"
      },
      "source": [
        "n_hidden = 512       # number of neurons in hidden layer\n",
        "\n",
        "class FNN(nn.Module):\n",
        "   def __init__(self, n_hidden):\n",
        "        super().__init__()\n",
        "        self.layer1 = nn.Linear(28*28, n_hidden)\n",
        "        self.relu = nn.ReLU()\n",
        "        self.layer2 = nn.Linear(n_hidden, 10)\n",
        "\n",
        "   def forward(self, inputs):\n",
        "        inputs = self.layer1(inputs)        # cannot do nn.ReLU(self.layer1(inputs))\n",
        "        inputs = self.relu(inputs)\n",
        "        inputs = self.layer2(inputs)\n",
        "        return inputs\n",
        "\n",
        "net = FNN(n_hidden)"
      ],
      "execution_count": null,
      "outputs": []
    },
    {
      "cell_type": "code",
      "metadata": {
        "id": "i32hVbGz5mxq"
      },
      "source": [
        "optim = torch.optim.Adam(net.parameters(), lr=0.001)\n",
        "loss_fn = nn.CrossEntropyLoss()"
      ],
      "execution_count": null,
      "outputs": []
    },
    {
      "cell_type": "code",
      "metadata": {
        "id": "096EHuCz5_8t",
        "outputId": "e7e50f47-4f35-4335-9e4d-80d974722431",
        "colab": {
          "base_uri": "https://localhost:8080/",
          "height": 185
        }
      },
      "source": [
        "epochs = 10\n",
        "\n",
        "for epoch in range(epochs):\n",
        "    for i, data in enumerate(trainloader):\n",
        "        inputs, labels = data\n",
        "        pred = net(inputs.view(-1, 28*28).float()) \n",
        "        loss = loss_fn(pred, labels.long())\n",
        "\n",
        "        optim.zero_grad()\n",
        "        loss.backward()\n",
        "        optim.step()\n",
        "    \n",
        "    print(f\"iteration: {epoch}\\tcross entropy loss: {loss.item()}\")"
      ],
      "execution_count": null,
      "outputs": [
        {
          "output_type": "stream",
          "text": [
            "iteration: 0\tcross entropy loss: 0.47165948152542114\n",
            "iteration: 1\tcross entropy loss: 0.49119317531585693\n",
            "iteration: 2\tcross entropy loss: 0.3736620843410492\n",
            "iteration: 3\tcross entropy loss: 0.4732755422592163\n",
            "iteration: 4\tcross entropy loss: 0.00879963394254446\n",
            "iteration: 5\tcross entropy loss: 0.3022238612174988\n",
            "iteration: 6\tcross entropy loss: 0.005687350407242775\n",
            "iteration: 7\tcross entropy loss: 0.13098065555095673\n",
            "iteration: 8\tcross entropy loss: 0.00031096956809051335\n",
            "iteration: 9\tcross entropy loss: 0.4092985987663269\n"
          ],
          "name": "stdout"
        }
      ]
    },
    {
      "cell_type": "code",
      "metadata": {
        "id": "sDERkkOY7hA3",
        "outputId": "3eb20a0c-b6a4-4291-bae5-01b431fb7c71",
        "colab": {
          "base_uri": "https://localhost:8080/",
          "height": 34
        }
      },
      "source": [
        "total = 0\n",
        "correct = 0\n",
        "\n",
        "with torch.no_grad():\n",
        "    for data in trainloader:\n",
        "        inputs, labels = data\n",
        "        outputs = net(inputs.view(-1, 28*28).float())       # here outputs.shape = (25, 10)\n",
        "        _, predicted = torch.max(outputs, 1)     # https://pytorch.org/docs/stable/generated/torch.max.html\n",
        "        total += labels.size(0)\n",
        "        correct += (predicted == labels).sum().item()      # .item() = to convert the value from tensor to a normal integer\n",
        "\n",
        "print('Accuracy on train data: %d %%' % ((correct / total) * 100))"
      ],
      "execution_count": null,
      "outputs": [
        {
          "output_type": "stream",
          "text": [
            "Accuracy on train data: 96 %\n"
          ],
          "name": "stdout"
        }
      ]
    },
    {
      "cell_type": "code",
      "metadata": {
        "id": "hg1SEdG7_dmW",
        "outputId": "20a7acc7-5df9-493d-e815-94cd79aa866c",
        "colab": {
          "base_uri": "https://localhost:8080/",
          "height": 34
        }
      },
      "source": [
        "total = 0\n",
        "correct = 0\n",
        "\n",
        "with torch.no_grad():\n",
        "    for data in valloader:\n",
        "        inputs, labels = data\n",
        "        outputs = net(inputs.view(-1, 28*28).float())\n",
        "        _, predicted = torch.max(outputs, 1)\n",
        "        total += labels.size(0)\n",
        "        correct += (predicted == labels).sum().item()       # .item() = to convert the value from tensor to a normal integer\n",
        "\n",
        "print('Accuracy on val data: %d %%' % ((correct / total) * 100))"
      ],
      "execution_count": null,
      "outputs": [
        {
          "output_type": "stream",
          "text": [
            "Accuracy on val data: 94 %\n"
          ],
          "name": "stdout"
        }
      ]
    },
    {
      "cell_type": "code",
      "metadata": {
        "id": "69nl9zhZ_mg6"
      },
      "source": [
        "_, prediction = net(torch.Tensor(test_x).view(-1, 28*28)).max(dim=-1)       #dim = -1 is the last dimension i.e., here it's the row"
      ],
      "execution_count": null,
      "outputs": []
    },
    {
      "cell_type": "code",
      "metadata": {
        "id": "dR5SNm2aASs0"
      },
      "source": [
        "prediction = prediction.detach().numpy()\n",
        "assert prediction.ndim == 1\n",
        "assert prediction.shape[0] == 2000"
      ],
      "execution_count": null,
      "outputs": []
    },
    {
      "cell_type": "code",
      "metadata": {
        "id": "_dqgsYQ2Aukp",
        "outputId": "2d27deeb-1c45-4504-e532-0a3df22a9bc3",
        "colab": {
          "base_uri": "https://localhost:8080/",
          "height": 17
        }
      },
      "source": [
        "np.save('prediction.npy', prediction)\n",
        "from google.colab import files\n",
        "files.download('prediction.npy')"
      ],
      "execution_count": null,
      "outputs": [
        {
          "output_type": "display_data",
          "data": {
            "application/javascript": [
              "\n",
              "    async function download(id, filename, size) {\n",
              "      if (!google.colab.kernel.accessAllowed) {\n",
              "        return;\n",
              "      }\n",
              "      const div = document.createElement('div');\n",
              "      const label = document.createElement('label');\n",
              "      label.textContent = `Downloading \"${filename}\": `;\n",
              "      div.appendChild(label);\n",
              "      const progress = document.createElement('progress');\n",
              "      progress.max = size;\n",
              "      div.appendChild(progress);\n",
              "      document.body.appendChild(div);\n",
              "\n",
              "      const buffers = [];\n",
              "      let downloaded = 0;\n",
              "\n",
              "      const channel = await google.colab.kernel.comms.open(id);\n",
              "      // Send a message to notify the kernel that we're ready.\n",
              "      channel.send({})\n",
              "\n",
              "      for await (const message of channel.messages) {\n",
              "        // Send a message to notify the kernel that we're ready.\n",
              "        channel.send({})\n",
              "        if (message.buffers) {\n",
              "          for (const buffer of message.buffers) {\n",
              "            buffers.push(buffer);\n",
              "            downloaded += buffer.byteLength;\n",
              "            progress.value = downloaded;\n",
              "          }\n",
              "        }\n",
              "      }\n",
              "      const blob = new Blob(buffers, {type: 'application/binary'});\n",
              "      const a = document.createElement('a');\n",
              "      a.href = window.URL.createObjectURL(blob);\n",
              "      a.download = filename;\n",
              "      div.appendChild(a);\n",
              "      a.click();\n",
              "      div.remove();\n",
              "    }\n",
              "  "
            ],
            "text/plain": [
              "<IPython.core.display.Javascript object>"
            ]
          },
          "metadata": {
            "tags": []
          }
        },
        {
          "output_type": "display_data",
          "data": {
            "application/javascript": [
              "download(\"download_9e48e0b3-7b8f-48a4-913e-20c42e73d0f9\", \"prediction.npy\", 16128)"
            ],
            "text/plain": [
              "<IPython.core.display.Javascript object>"
            ]
          },
          "metadata": {
            "tags": []
          }
        }
      ]
    }
  ]
}